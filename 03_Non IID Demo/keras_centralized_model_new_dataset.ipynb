{
 "cells": [
  {
   "cell_type": "code",
   "execution_count": 1,
   "id": "9b4fbc4c",
   "metadata": {},
   "outputs": [],
   "source": [
    "# import tarfile\n",
    "# filename = \"D:/Federated Learning/new_swift_transaction_train_dataset_dev.tar.gz\"\n",
    "# tf = tarfile.open(filename)\n",
    "# print(tf.getnames())"
   ]
  },
  {
   "cell_type": "code",
   "execution_count": 2,
   "id": "4b52c9be",
   "metadata": {},
   "outputs": [],
   "source": [
    "# tf"
   ]
  },
  {
   "cell_type": "code",
   "execution_count": 3,
   "id": "8e64b4b6",
   "metadata": {},
   "outputs": [],
   "source": [
    "# import tarfile\n",
    "# # filename = \"sample.tar.gz\"\n",
    "# # tf = tarfile.open(filename)\n",
    "# tf.extractall('D:/Federated Learning')"
   ]
  },
  {
   "cell_type": "code",
   "execution_count": 4,
   "id": "939ae462",
   "metadata": {},
   "outputs": [],
   "source": [
    "import pandas as pd\n",
    "df1 = pd.read_csv('D:/Federated Learning/swift_transaction_train_dataset/new_swift_transaction_train_dataset.csv')"
   ]
  },
  {
   "cell_type": "code",
   "execution_count": 5,
   "id": "b842dea3",
   "metadata": {},
   "outputs": [],
   "source": [
    "df2 = pd.read_csv('D:/Federated Learning/swift_transaction_test_dataset/new_swift_transaction_test_dataset.csv')"
   ]
  },
  {
   "cell_type": "code",
   "execution_count": 6,
   "id": "3b1a2b61",
   "metadata": {},
   "outputs": [
    {
     "data": {
      "text/html": [
       "<div>\n",
       "<style scoped>\n",
       "    .dataframe tbody tr th:only-of-type {\n",
       "        vertical-align: middle;\n",
       "    }\n",
       "\n",
       "    .dataframe tbody tr th {\n",
       "        vertical-align: top;\n",
       "    }\n",
       "\n",
       "    .dataframe thead th {\n",
       "        text-align: right;\n",
       "    }\n",
       "</style>\n",
       "<table border=\"1\" class=\"dataframe\">\n",
       "  <thead>\n",
       "    <tr style=\"text-align: right;\">\n",
       "      <th></th>\n",
       "      <th>MessageId</th>\n",
       "      <th>Timestamp</th>\n",
       "      <th>UETR</th>\n",
       "      <th>Sender</th>\n",
       "      <th>Receiver</th>\n",
       "      <th>TransactionReference</th>\n",
       "      <th>OrderingAccount</th>\n",
       "      <th>OrderingName</th>\n",
       "      <th>OrderingStreet</th>\n",
       "      <th>OrderingCountryCityZip</th>\n",
       "      <th>BeneficiaryAccount</th>\n",
       "      <th>BeneficiaryName</th>\n",
       "      <th>BeneficiaryStreet</th>\n",
       "      <th>BeneficiaryCountryCityZip</th>\n",
       "      <th>SettlementDate</th>\n",
       "      <th>SettlementCurrency</th>\n",
       "      <th>SettlementAmount</th>\n",
       "      <th>InstructedCurrency</th>\n",
       "      <th>InstructedAmount</th>\n",
       "      <th>Label</th>\n",
       "    </tr>\n",
       "  </thead>\n",
       "  <tbody>\n",
       "    <tr>\n",
       "      <th>0</th>\n",
       "      <td>TR41PJSO2K</td>\n",
       "      <td>2035-02-01 00:00:00</td>\n",
       "      <td>00000000-0000-0000-0000-000000000000</td>\n",
       "      <td>SSIKAEAD</td>\n",
       "      <td>BANKUSUS</td>\n",
       "      <td>tranref2276</td>\n",
       "      <td>AE6192128999573566154</td>\n",
       "      <td>muhlenbergia palmeri</td>\n",
       "      <td>243 BAKER CANYON SUITE 172</td>\n",
       "      <td>AE/СТ. БОЛОГОЕ, Ш. ПРОМЫШЛЕННОЕ, Д. 95 СТР. 4/...</td>\n",
       "      <td>US36760635460833366509</td>\n",
       "      <td>vitex</td>\n",
       "      <td>STEFFENSTRASSE 48</td>\n",
       "      <td>EE/PORT TOOMASSIDE, KS 20453</td>\n",
       "      <td>350201</td>\n",
       "      <td>USD</td>\n",
       "      <td>1.236405e+09</td>\n",
       "      <td>USD</td>\n",
       "      <td>1.236405e+09</td>\n",
       "      <td>0</td>\n",
       "    </tr>\n",
       "    <tr>\n",
       "      <th>1</th>\n",
       "      <td>TRRV6SK1WJ</td>\n",
       "      <td>2035-02-01 00:00:00</td>\n",
       "      <td>00000000-0000-0000-0000-000000000001</td>\n",
       "      <td>TIVTJOAM</td>\n",
       "      <td>BANKUSUS</td>\n",
       "      <td>tranref791</td>\n",
       "      <td>JO3068250433486618158</td>\n",
       "      <td>mentzelia micrantha</td>\n",
       "      <td>468 BENNETT STATION SUITE 456</td>\n",
       "      <td>JO/S2H 6HW</td>\n",
       "      <td>US36760635460833061464</td>\n",
       "      <td>echinocereus coccineus</td>\n",
       "      <td>FLAT 4 WOOD CAMP MORGANBURGH</td>\n",
       "      <td>QA/GALLAGHERBOROUGH, WV 40166</td>\n",
       "      <td>350201</td>\n",
       "      <td>USD</td>\n",
       "      <td>2.896132e+07</td>\n",
       "      <td>USD</td>\n",
       "      <td>2.896132e+07</td>\n",
       "      <td>0</td>\n",
       "    </tr>\n",
       "    <tr>\n",
       "      <th>2</th>\n",
       "      <td>TR6936L06Y</td>\n",
       "      <td>2035-02-01 00:00:00</td>\n",
       "      <td>00000000-0000-0000-0000-000000000002</td>\n",
       "      <td>QYNBAU2S</td>\n",
       "      <td>BANKUSUS</td>\n",
       "      <td>tranref1703</td>\n",
       "      <td>AU1758550492493386895</td>\n",
       "      <td>cymopterus purpurascens</td>\n",
       "      <td>STUDIO 96L LOUIS LOCKS EAST GORDON</td>\n",
       "      <td>AU/G4 6GB</td>\n",
       "      <td>US36760635460833411580</td>\n",
       "      <td>suaeda esteroa</td>\n",
       "      <td>STUDIO 1 THOMPSON RANCH LAKE KATHRYN</td>\n",
       "      <td>KZ/GARZATON, HI 02579</td>\n",
       "      <td>350201</td>\n",
       "      <td>USD</td>\n",
       "      <td>9.276577e+07</td>\n",
       "      <td>USD</td>\n",
       "      <td>9.276577e+07</td>\n",
       "      <td>0</td>\n",
       "    </tr>\n",
       "  </tbody>\n",
       "</table>\n",
       "</div>"
      ],
      "text/plain": [
       "    MessageId            Timestamp                                  UETR  \\\n",
       "0  TR41PJSO2K  2035-02-01 00:00:00  00000000-0000-0000-0000-000000000000   \n",
       "1  TRRV6SK1WJ  2035-02-01 00:00:00  00000000-0000-0000-0000-000000000001   \n",
       "2  TR6936L06Y  2035-02-01 00:00:00  00000000-0000-0000-0000-000000000002   \n",
       "\n",
       "     Sender  Receiver TransactionReference        OrderingAccount  \\\n",
       "0  SSIKAEAD  BANKUSUS          tranref2276  AE6192128999573566154   \n",
       "1  TIVTJOAM  BANKUSUS           tranref791  JO3068250433486618158   \n",
       "2  QYNBAU2S  BANKUSUS          tranref1703  AU1758550492493386895   \n",
       "\n",
       "              OrderingName                      OrderingStreet  \\\n",
       "0     muhlenbergia palmeri          243 BAKER CANYON SUITE 172   \n",
       "1      mentzelia micrantha       468 BENNETT STATION SUITE 456   \n",
       "2  cymopterus purpurascens  STUDIO 96L LOUIS LOCKS EAST GORDON   \n",
       "\n",
       "                              OrderingCountryCityZip      BeneficiaryAccount  \\\n",
       "0  AE/СТ. БОЛОГОЕ, Ш. ПРОМЫШЛЕННОЕ, Д. 95 СТР. 4/...  US36760635460833366509   \n",
       "1                                         JO/S2H 6HW  US36760635460833061464   \n",
       "2                                          AU/G4 6GB  US36760635460833411580   \n",
       "\n",
       "          BeneficiaryName                     BeneficiaryStreet  \\\n",
       "0                   vitex                     STEFFENSTRASSE 48   \n",
       "1  echinocereus coccineus          FLAT 4 WOOD CAMP MORGANBURGH   \n",
       "2          suaeda esteroa  STUDIO 1 THOMPSON RANCH LAKE KATHRYN   \n",
       "\n",
       "       BeneficiaryCountryCityZip  SettlementDate SettlementCurrency  \\\n",
       "0   EE/PORT TOOMASSIDE, KS 20453          350201                USD   \n",
       "1  QA/GALLAGHERBOROUGH, WV 40166          350201                USD   \n",
       "2          KZ/GARZATON, HI 02579          350201                USD   \n",
       "\n",
       "   SettlementAmount InstructedCurrency  InstructedAmount  Label  \n",
       "0      1.236405e+09                USD      1.236405e+09      0  \n",
       "1      2.896132e+07                USD      2.896132e+07      0  \n",
       "2      9.276577e+07                USD      9.276577e+07      0  "
      ]
     },
     "execution_count": 6,
     "metadata": {},
     "output_type": "execute_result"
    }
   ],
   "source": [
    "df1.head(3)"
   ]
  },
  {
   "cell_type": "code",
   "execution_count": 7,
   "id": "da05f2cd",
   "metadata": {},
   "outputs": [
    {
     "data": {
      "text/html": [
       "<div>\n",
       "<style scoped>\n",
       "    .dataframe tbody tr th:only-of-type {\n",
       "        vertical-align: middle;\n",
       "    }\n",
       "\n",
       "    .dataframe tbody tr th {\n",
       "        vertical-align: top;\n",
       "    }\n",
       "\n",
       "    .dataframe thead th {\n",
       "        text-align: right;\n",
       "    }\n",
       "</style>\n",
       "<table border=\"1\" class=\"dataframe\">\n",
       "  <thead>\n",
       "    <tr style=\"text-align: right;\">\n",
       "      <th></th>\n",
       "      <th>MessageId</th>\n",
       "      <th>Timestamp</th>\n",
       "      <th>UETR</th>\n",
       "      <th>Sender</th>\n",
       "      <th>Receiver</th>\n",
       "      <th>TransactionReference</th>\n",
       "      <th>OrderingAccount</th>\n",
       "      <th>OrderingName</th>\n",
       "      <th>OrderingStreet</th>\n",
       "      <th>OrderingCountryCityZip</th>\n",
       "      <th>BeneficiaryAccount</th>\n",
       "      <th>BeneficiaryName</th>\n",
       "      <th>BeneficiaryStreet</th>\n",
       "      <th>BeneficiaryCountryCityZip</th>\n",
       "      <th>SettlementDate</th>\n",
       "      <th>SettlementCurrency</th>\n",
       "      <th>SettlementAmount</th>\n",
       "      <th>InstructedCurrency</th>\n",
       "      <th>InstructedAmount</th>\n",
       "      <th>Label</th>\n",
       "    </tr>\n",
       "  </thead>\n",
       "  <tbody>\n",
       "    <tr>\n",
       "      <th>0</th>\n",
       "      <td>TEE4AME1Y8</td>\n",
       "      <td>2035-02-22 00:05:00</td>\n",
       "      <td>00000000-0000-0000-0000-000001391474</td>\n",
       "      <td>CIOZLULX</td>\n",
       "      <td>BANKUSUS</td>\n",
       "      <td>tranref2073</td>\n",
       "      <td>LU7375657260949872538</td>\n",
       "      <td>cupania americana</td>\n",
       "      <td>HARRY STREET</td>\n",
       "      <td>LU/THOMPSONSIDE, CO 89711</td>\n",
       "      <td>US36760635460833269599</td>\n",
       "      <td>tetramerium nervosum</td>\n",
       "      <td>4990 FORD FORT</td>\n",
       "      <td>TW/JOSEPHVILLE, KY 74046</td>\n",
       "      <td>350222</td>\n",
       "      <td>USD</td>\n",
       "      <td>9.340010e+08</td>\n",
       "      <td>USD</td>\n",
       "      <td>9.340010e+08</td>\n",
       "      <td>0</td>\n",
       "    </tr>\n",
       "    <tr>\n",
       "      <th>1</th>\n",
       "      <td>TEFXON822J</td>\n",
       "      <td>2035-02-22 00:05:00</td>\n",
       "      <td>00000000-0000-0000-0000-000001391475</td>\n",
       "      <td>KUDPITMM</td>\n",
       "      <td>BANKUSUS</td>\n",
       "      <td>tranref1869</td>\n",
       "      <td>IT4997362444683057233</td>\n",
       "      <td>papaver rhoeas</td>\n",
       "      <td>25113 SANCHEZ RIVER SUITE 391</td>\n",
       "      <td>IT/LAKE MARTIN, MO 83909</td>\n",
       "      <td>US36760635460833126936</td>\n",
       "      <td>iris virginica-shrevei</td>\n",
       "      <td>5423 THEODORE PRAIRIE SUITE 894</td>\n",
       "      <td>QA/DARLENEVILLE, VT 74624</td>\n",
       "      <td>350222</td>\n",
       "      <td>USD</td>\n",
       "      <td>1.392714e+09</td>\n",
       "      <td>USD</td>\n",
       "      <td>1.392714e+09</td>\n",
       "      <td>0</td>\n",
       "    </tr>\n",
       "    <tr>\n",
       "      <th>2</th>\n",
       "      <td>TEFMXFCKT4</td>\n",
       "      <td>2035-02-22 00:05:00</td>\n",
       "      <td>00000000-0000-0000-0000-000001391476</td>\n",
       "      <td>WBBBDK22</td>\n",
       "      <td>BANKUSUS</td>\n",
       "      <td>tranref1703</td>\n",
       "      <td>DK7404177571762946439</td>\n",
       "      <td>vriesea</td>\n",
       "      <td>GG. RAJAWALI BARAT NO. 091</td>\n",
       "      <td>DK/22 BALE STREET A12W66T CARMEL VILLE</td>\n",
       "      <td>US36760635460833411580</td>\n",
       "      <td>suaeda esteroa</td>\n",
       "      <td>STUDIO 1 THOMPSON RANCH LAKE KATHRYN</td>\n",
       "      <td>KZ/GARZATON, HI 02579</td>\n",
       "      <td>350222</td>\n",
       "      <td>USD</td>\n",
       "      <td>9.426845e+07</td>\n",
       "      <td>USD</td>\n",
       "      <td>9.426845e+07</td>\n",
       "      <td>0</td>\n",
       "    </tr>\n",
       "  </tbody>\n",
       "</table>\n",
       "</div>"
      ],
      "text/plain": [
       "    MessageId            Timestamp                                  UETR  \\\n",
       "0  TEE4AME1Y8  2035-02-22 00:05:00  00000000-0000-0000-0000-000001391474   \n",
       "1  TEFXON822J  2035-02-22 00:05:00  00000000-0000-0000-0000-000001391475   \n",
       "2  TEFMXFCKT4  2035-02-22 00:05:00  00000000-0000-0000-0000-000001391476   \n",
       "\n",
       "     Sender  Receiver TransactionReference        OrderingAccount  \\\n",
       "0  CIOZLULX  BANKUSUS          tranref2073  LU7375657260949872538   \n",
       "1  KUDPITMM  BANKUSUS          tranref1869  IT4997362444683057233   \n",
       "2  WBBBDK22  BANKUSUS          tranref1703  DK7404177571762946439   \n",
       "\n",
       "        OrderingName                 OrderingStreet  \\\n",
       "0  cupania americana                   HARRY STREET   \n",
       "1     papaver rhoeas  25113 SANCHEZ RIVER SUITE 391   \n",
       "2            vriesea     GG. RAJAWALI BARAT NO. 091   \n",
       "\n",
       "                   OrderingCountryCityZip      BeneficiaryAccount  \\\n",
       "0               LU/THOMPSONSIDE, CO 89711  US36760635460833269599   \n",
       "1                IT/LAKE MARTIN, MO 83909  US36760635460833126936   \n",
       "2  DK/22 BALE STREET A12W66T CARMEL VILLE  US36760635460833411580   \n",
       "\n",
       "          BeneficiaryName                     BeneficiaryStreet  \\\n",
       "0    tetramerium nervosum                        4990 FORD FORT   \n",
       "1  iris virginica-shrevei       5423 THEODORE PRAIRIE SUITE 894   \n",
       "2          suaeda esteroa  STUDIO 1 THOMPSON RANCH LAKE KATHRYN   \n",
       "\n",
       "   BeneficiaryCountryCityZip  SettlementDate SettlementCurrency  \\\n",
       "0   TW/JOSEPHVILLE, KY 74046          350222                USD   \n",
       "1  QA/DARLENEVILLE, VT 74624          350222                USD   \n",
       "2      KZ/GARZATON, HI 02579          350222                USD   \n",
       "\n",
       "   SettlementAmount InstructedCurrency  InstructedAmount  Label  \n",
       "0      9.340010e+08                USD      9.340010e+08      0  \n",
       "1      1.392714e+09                USD      1.392714e+09      0  \n",
       "2      9.426845e+07                USD      9.426845e+07      0  "
      ]
     },
     "execution_count": 7,
     "metadata": {},
     "output_type": "execute_result"
    }
   ],
   "source": [
    "df2.head(3)"
   ]
  },
  {
   "cell_type": "code",
   "execution_count": 8,
   "id": "4984be44",
   "metadata": {},
   "outputs": [
    {
     "name": "stdout",
     "output_type": "stream",
     "text": [
      "D:\\fincrime-federated\n"
     ]
    }
   ],
   "source": [
    "import os\n",
    "dirname = os.path.dirname('D:/fincrime-federated/')\n",
    "os.chdir(dirname)\n",
    "print(os.getcwd())\n",
    "\n",
    "\n",
    "# import submission_src.fincrime.solution_centralized as funcs\n",
    "# importlib.reload(funcs) \n",
    "\n",
    "# start_time = time.time()\n",
    "\n",
    "model_dir = 'D:/fincrime-federated/model/fincrime'\n",
    "preds_format_path = 'D:/fincrime-federated/prediction/fincrime/prediction_format'\n",
    "preds_dest_path = 'D:/fincrime-federated/prediction/fincrime/prediction'\n",
    "\n"
   ]
  },
  {
   "cell_type": "code",
   "execution_count": 9,
   "id": "e4f837d0",
   "metadata": {},
   "outputs": [],
   "source": [
    "import numpy as np\n",
    "import sys\n",
    "import warnings\n",
    "warnings.simplefilter(action=\"ignore\", category=FutureWarning)\n",
    "\n",
    "import json\n",
    "\n",
    "from sklearn.metrics import (accuracy_score,classification_report,confusion_matrix)\n",
    "from sklearn import metrics\n",
    "\n",
    "import pickle\n",
    "from importlib.resources import path\n",
    "from pathlib import Path\n",
    "import os\n",
    "import importlib\n",
    "import time\n",
    "\n",
    "import numpy as np\n",
    "import pandas as pd\n",
    "import sklearn.utils\n",
    "from pandas import Int64Index, MultiIndex\n",
    "from sklearn import metrics\n",
    "\n",
    "import tensorflow as tf\n",
    "\n",
    "from sklearn.preprocessing import MinMaxScaler\n",
    "from sklearn.preprocessing import RobustScaler\n",
    "\n",
    "from sklearn.model_selection import train_test_split\n"
   ]
  },
  {
   "cell_type": "code",
   "execution_count": 10,
   "id": "b0f01b00",
   "metadata": {},
   "outputs": [],
   "source": [
    "df1[\"Timestamp\"] = df1[\"Timestamp\"].astype(\"datetime64[ns]\")\n",
    "df2[\"Timestamp\"] = df2[\"Timestamp\"].astype(\"datetime64[ns]\")"
   ]
  },
  {
   "cell_type": "code",
   "execution_count": 11,
   "id": "5bcfc9ff",
   "metadata": {},
   "outputs": [
    {
     "name": "stdout",
     "output_type": "stream",
     "text": [
      "(2993870, 32)\n"
     ]
    }
   ],
   "source": [
    "train_data = df1\n",
    "bank_data = pd.read_csv('D:/Federated Learning/bank_dataset/new_bank_dataset.csv')\n",
    "# Merging with bank details\n",
    "train_data = pd.merge(train_data,bank_data,left_on=\"OrderingAccount\",right_on=\"Account\",how=\"left\",)\n",
    "train_data = pd.merge(train_data,bank_data,left_on=\"BeneficiaryAccount\",right_on=\"Account\",how=\"left\",\n",
    "                      suffixes=[\"_order\", \"_ben\"],)\n",
    "\n",
    "trainset = train_data\n",
    "print(trainset.shape)"
   ]
  },
  {
   "cell_type": "code",
   "execution_count": 12,
   "id": "77108215",
   "metadata": {},
   "outputs": [
    {
     "name": "stdout",
     "output_type": "stream",
     "text": [
      "(1003674, 32)\n"
     ]
    }
   ],
   "source": [
    "test_data = df2\n",
    "bank_data = pd.read_csv('D:/Federated Learning/bank_dataset/new_bank_dataset.csv')\n",
    "# Merging with bank details\n",
    "test_data = pd.merge(test_data,bank_data,left_on=\"OrderingAccount\",right_on=\"Account\",how=\"left\",)\n",
    "test_data = pd.merge(test_data,bank_data,left_on=\"BeneficiaryAccount\",right_on=\"Account\",how=\"left\",\n",
    "                      suffixes=[\"_order\", \"_ben\"],)\n",
    "\n",
    "testset = test_data\n",
    "print(testset.shape)"
   ]
  },
  {
   "cell_type": "markdown",
   "id": "183c86ae",
   "metadata": {},
   "source": [
    "# Normalizing"
   ]
  },
  {
   "cell_type": "code",
   "execution_count": 13,
   "id": "117b63c2",
   "metadata": {},
   "outputs": [],
   "source": [
    "scaler = MinMaxScaler()\n",
    "\n",
    "# scaler = RobustScaler(quantile_range=(25, 75))\n",
    "\n",
    "def norm(x):\n",
    "    scaler.fit(x)\n",
    "    return scaler.transform(x)"
   ]
  },
  {
   "cell_type": "markdown",
   "id": "2cf715e7",
   "metadata": {},
   "source": [
    "# Data Prep Functions (Call these functions)"
   ]
  },
  {
   "cell_type": "code",
   "execution_count": 14,
   "id": "5081d09f",
   "metadata": {},
   "outputs": [],
   "source": [
    "def data_prep(train_data):\n",
    "    # Feature engineering\n",
    "#     train_data = train_data.dropna(axis=0)\n",
    "    \n",
    "    train_data = create_features(\n",
    "        df=train_data, model_dir=model_dir, map_from_train_set=False\n",
    "    )\n",
    "\n",
    "    # Keep below columns for training and testing\n",
    "    cols_to_keep = [\n",
    "        \"SettlementAmount\",\n",
    "        \"InstructedAmount\",\n",
    "        \"Label\",\n",
    "        \"hour\",\n",
    "        \"Flags_ben\",\n",
    "        \"MissingBenAccount\",\n",
    "        \"MissingOrdAccount\",\n",
    "        \"Sender_hour_frequency_new\",\n",
    "        # 'sender_currency_amount_average',\n",
    "        \"Sender_Receiver_frequency_new\",\n",
    "        \"Sender_InstructedCurrency_frequency_new\",\n",
    "        \"seq\",\n",
    "        # 'receiver_transactions',\n",
    "        \"Receiver_SettlementCurrency_frequency_new\",\n",
    "        \"Receiver_hour_frequency_new\",\n",
    "        \"DifferentOrderNum\",\n",
    "        \"DifferentBenNum\",\n",
    "        \"DifferentOrderName\",\n",
    "        \"DifferentBenName\",\n",
    "        \"DifferentOrderStreet\",\n",
    "        \"DifferentBenStreet\",\n",
    "        \"DifferentOrderZip\",\n",
    "        \"DifferentBenZip\",\n",
    "    ]\n",
    "\n",
    "    train_data_2 = train_data[cols_to_keep]\n",
    "    return train_data_2"
   ]
  },
  {
   "cell_type": "code",
   "execution_count": 15,
   "id": "8306e2cd",
   "metadata": {},
   "outputs": [],
   "source": [
    "def create_features(df, model_dir, map_from_train_set=False):\n",
    "\n",
    "    ## Feature Engineering\n",
    "\n",
    "    # Hour column\n",
    "    df[\"hour\"] = df[\"Timestamp\"].dt.hour\n",
    "\n",
    "    # Hour frequency for each sender\n",
    "    freq_by_features(df=df,level_1=\"Sender\",level_2=\"hour\",model_dir=model_dir,save_as_object=True,\n",
    "                     map_from_train_set=map_from_train_set,)\n",
    "    # Hour frequency for each receiver\n",
    "    freq_by_features(df=df,level_1=\"Receiver\",level_2=\"hour\",model_dir=model_dir,save_as_object=True,\n",
    "                     map_from_train_set=map_from_train_set,)\n",
    "    # Sender-Currency Frequency\n",
    "    freq_by_features(df=df,level_1=\"Sender\",level_2=\"InstructedCurrency\",model_dir=model_dir,save_as_object=True,\n",
    "                     map_from_train_set=map_from_train_set,)\n",
    "    # Receiver-SettledCurrency Frequency\n",
    "    freq_by_features(df=df,level_1=\"Receiver\",level_2=\"SettlementCurrency\",model_dir=model_dir,save_as_object=True,\n",
    "                     map_from_train_set=map_from_train_set,)\n",
    "    # Sender-Receiver Frequency\n",
    "    freq_by_features(df=df,level_1=\"Sender\",level_2=\"Receiver\",model_dir=model_dir,save_as_object=True,\n",
    "                     map_from_train_set=map_from_train_set,)\n",
    "\n",
    "    # # Average Amount per Sender-Currency - not working\n",
    "    # Sender_ICurrency_mean = mean_by_features(df = df, level_1=\"Sender\" , level_2=\"InstructedCurrency\")\n",
    "    # df.loc[:,\"Sender_ICurrency_mean\"] = \\\n",
    "    #     df.loc[:,\"Sender_InstructedCurrency\"].map(Sender_ICurrency_mean)\n",
    "\n",
    "    # Numbering the transactions within a account order - ben - date combination\n",
    "    df = df.sort_values(\n",
    "        by=[\n",
    "            \"SettlementDate\",\n",
    "            \"Sender\",\n",
    "            \"Receiver\",\n",
    "            \"Account_order\",\n",
    "            \"Account_ben\",\n",
    "            \"Timestamp\",\n",
    "        ],\n",
    "        ascending=True,\n",
    "    )\n",
    "    df[\"seq\"] = (\n",
    "        df.groupby(\n",
    "            [\n",
    "                \"SettlementDate\",\n",
    "                \"Sender\",\n",
    "                \"Receiver\",\n",
    "                \"Account_order\",\n",
    "                \"Account_ben\",\n",
    "            ]\n",
    "        ).cumcount()\n",
    "        + 1\n",
    "    )\n",
    "    df[\"seq\"] = df[\"seq\"].replace(np.NAN, 1)\n",
    "\n",
    "    # Flag columns for transactions with missing bank details\n",
    "    df[[\"MissingBenAccount\"]] = 0\n",
    "    df.loc[df[\"Flags_ben\"].isnull(), \"MissingBenAccount\"] = 1\n",
    "    df[[\"MissingOrdAccount\"]] = 0\n",
    "    df.loc[df[\"Flags_order\"].isnull(), \"MissingOrdAccount\"] = 1\n",
    "\n",
    "    # Different sender account number from bank details\n",
    "    df[\"DifferentOrderNum\"] = np.where(\n",
    "        df[\"Account_order\"] == df[\"OrderingAccount\"], 0, 1\n",
    "    )\n",
    "    # Different receiver account number from bank details\n",
    "    df[\"DifferentBenNum\"] = np.where(\n",
    "        df[\"Account_ben\"] == df[\"BeneficiaryAccount\"], 0, 1\n",
    "    )\n",
    "\n",
    "    # Different sender account name from bank details\n",
    "    df[\"DifferentOrderName\"] = np.where(\n",
    "        df[\"Name_order\"] == df[\"OrderingName\"], 0, 1\n",
    "    )\n",
    "    # Different receiver account name from bank details\n",
    "    df[\"DifferentBenName\"] = np.where(\n",
    "        df[\"Name_ben\"] == df[\"BeneficiaryName\"], 0, 1\n",
    "    )\n",
    "\n",
    "    # Different sender account ordering street from bank details\n",
    "    df[\"DifferentOrderStreet\"] = np.where(\n",
    "        df[\"Street_order\"] == df[\"OrderingStreet\"], 0, 1\n",
    "    )\n",
    "    # Different receiver account ordering street from bank details\n",
    "    df[\"DifferentBenStreet\"] = np.where(\n",
    "        df[\"Street_ben\"] == df[\"BeneficiaryStreet\"], 0, 1\n",
    "    )\n",
    "\n",
    "    # Different sender account country code/zip from bank details\n",
    "    df[\"DifferentOrderZip\"] = np.where(\n",
    "        df[\"CountryCityZip_order\"] == df[\"OrderingCountryCityZip\"], 0, 1\n",
    "    )\n",
    "    # Different receiver account country code/zip from bank details\n",
    "    df[\"DifferentBenZip\"] = np.where(\n",
    "        df[\"CountryCityZip_ben\"] == df[\"BeneficiaryCountryCityZip\"], 0, 1\n",
    "    )\n",
    "\n",
    "    # Some missing value treatment\n",
    "    df.loc[df[\"Flags_ben\"].isna(), \"Flags_ben\"] = 99\n",
    "\n",
    "    return df"
   ]
  },
  {
   "cell_type": "code",
   "execution_count": 16,
   "id": "e3c56956",
   "metadata": {},
   "outputs": [],
   "source": [
    "def freq_by_features(\n",
    "    df,\n",
    "    level_1,\n",
    "    level_2,\n",
    "    model_dir,\n",
    "    save_as_object=False,\n",
    "    map_from_train_set=False,\n",
    ") -> None:\n",
    "\n",
    "    if map_from_train_set == True:\n",
    "\n",
    "        level_1_level_2_frequency_new = pickle.load(\n",
    "            open(\n",
    "                model_dir\n",
    "                + \"/\"\n",
    "                + str(level_1 + \"_\" + level_2 + \"_frequency_new\")\n",
    "                + \".sav\",\n",
    "                \"rb\",\n",
    "            )\n",
    "        )\n",
    "        _level_1 = df.loc[:, level_1].unique()\n",
    "        _level_2 = df.loc[:, level_2].unique()\n",
    "        df[str(level_1 + \"_\" + level_2)] = df.loc[:, level_1] + df.loc[\n",
    "            :, level_2\n",
    "        ].astype(str)\n",
    "        df.loc[:, str(level_1 + \"_\" + level_2 + \"_frequency_new\")] = df.loc[\n",
    "            :, str(level_1 + \"_\" + level_2)\n",
    "        ].map(level_1_level_2_frequency_new)\n",
    "    else:\n",
    "        _level_1 = df.loc[:, level_1].unique()\n",
    "        _level_2 = df.loc[:, level_2].unique()\n",
    "        df[str(level_1 + \"_\" + level_2)] = df.loc[:, level_1] + df.loc[\n",
    "            :, level_2\n",
    "        ].astype(str)\n",
    "        level_1_level_2_frequency_new = {}\n",
    "        for s in _level_1:\n",
    "            level_1_rows = df[df[level_1] == s]\n",
    "            for h in _level_2:\n",
    "                level_1_level_2_frequency_new[s + str(h)] = len(\n",
    "                    level_1_rows[level_1_rows.loc[:, level_2] == h]\n",
    "                )\n",
    "\n",
    "        df.loc[:, str(level_1 + \"_\" + level_2 + \"_frequency_new\")] = df.loc[\n",
    "            :, str(level_1 + \"_\" + level_2)\n",
    "        ].map(level_1_level_2_frequency_new)\n",
    "\n",
    "        if save_as_object == True:\n",
    "            pickle.dump(\n",
    "                level_1_level_2_frequency_new,\n",
    "                open(\n",
    "                    model_dir\n",
    "                    + \"/\"\n",
    "                    + str(level_1 + \"_\" + level_2 + \"_frequency_new\")\n",
    "                    + \".sav\",\n",
    "                    \"wb\",\n",
    "                ),\n",
    "            )\n",
    "\n",
    "    ..."
   ]
  },
  {
   "cell_type": "markdown",
   "id": "87d20598",
   "metadata": {},
   "source": [
    "# Centralized result using Keras (Executing Main Script)"
   ]
  },
  {
   "cell_type": "code",
   "execution_count": 17,
   "id": "34dd0b79",
   "metadata": {},
   "outputs": [],
   "source": [
    "# Train/Test/validation split\n",
    "\n",
    "trainloadset,valloadset=train_test_split(trainset,test_size=0.3)\n",
    "testloader=testset"
   ]
  },
  {
   "cell_type": "code",
   "execution_count": 18,
   "id": "c65e89a9",
   "metadata": {},
   "outputs": [
    {
     "data": {
      "text/plain": [
       "(2095709, 32)"
      ]
     },
     "execution_count": 18,
     "metadata": {},
     "output_type": "execute_result"
    }
   ],
   "source": [
    "(trainloadset.shape)"
   ]
  },
  {
   "cell_type": "code",
   "execution_count": 19,
   "id": "35fb26a4",
   "metadata": {},
   "outputs": [
    {
     "data": {
      "text/plain": [
       "(898161, 32)"
      ]
     },
     "execution_count": 19,
     "metadata": {},
     "output_type": "execute_result"
    }
   ],
   "source": [
    "valloadset.shape"
   ]
  },
  {
   "cell_type": "code",
   "execution_count": 20,
   "id": "de3db5c1",
   "metadata": {},
   "outputs": [
    {
     "data": {
      "text/plain": [
       "(1003674, 32)"
      ]
     },
     "execution_count": 20,
     "metadata": {},
     "output_type": "execute_result"
    }
   ],
   "source": [
    "testloader.shape"
   ]
  },
  {
   "cell_type": "code",
   "execution_count": 31,
   "id": "cfe89c81",
   "metadata": {},
   "outputs": [],
   "source": [
    "# Data Preparation\n",
    "tl=data_prep(trainloadset)\n",
    "vl=data_prep(valloadset)\n",
    "testl=data_prep(testloader)\n",
    "\n",
    "Y_train=tl.pop('Label')\n",
    "Y_val=vl.pop('Label')\n",
    "Y_test=testl.pop('Label')\n",
    "\n",
    "X_train=norm(tl)\n",
    "X_val=norm(vl)\n",
    "X_test=norm(testl)"
   ]
  },
  {
   "cell_type": "code",
   "execution_count": 30,
   "id": "29b1a491",
   "metadata": {},
   "outputs": [
    {
     "data": {
      "text/html": [
       "<div>\n",
       "<style scoped>\n",
       "    .dataframe tbody tr th:only-of-type {\n",
       "        vertical-align: middle;\n",
       "    }\n",
       "\n",
       "    .dataframe tbody tr th {\n",
       "        vertical-align: top;\n",
       "    }\n",
       "\n",
       "    .dataframe thead th {\n",
       "        text-align: right;\n",
       "    }\n",
       "</style>\n",
       "<table border=\"1\" class=\"dataframe\">\n",
       "  <thead>\n",
       "    <tr style=\"text-align: right;\">\n",
       "      <th></th>\n",
       "      <th>SettlementAmount</th>\n",
       "      <th>InstructedAmount</th>\n",
       "      <th>Label</th>\n",
       "      <th>hour</th>\n",
       "      <th>Flags_ben</th>\n",
       "      <th>MissingBenAccount</th>\n",
       "      <th>MissingOrdAccount</th>\n",
       "      <th>Sender_hour_frequency_new</th>\n",
       "      <th>Sender_Receiver_frequency_new</th>\n",
       "      <th>Sender_InstructedCurrency_frequency_new</th>\n",
       "      <th>...</th>\n",
       "      <th>Receiver_SettlementCurrency_frequency_new</th>\n",
       "      <th>Receiver_hour_frequency_new</th>\n",
       "      <th>DifferentOrderNum</th>\n",
       "      <th>DifferentBenNum</th>\n",
       "      <th>DifferentOrderName</th>\n",
       "      <th>DifferentBenName</th>\n",
       "      <th>DifferentOrderStreet</th>\n",
       "      <th>DifferentBenStreet</th>\n",
       "      <th>DifferentOrderZip</th>\n",
       "      <th>DifferentBenZip</th>\n",
       "    </tr>\n",
       "  </thead>\n",
       "  <tbody>\n",
       "    <tr>\n",
       "      <th>710978</th>\n",
       "      <td>2.582180e+11</td>\n",
       "      <td>2.582180e+11</td>\n",
       "      <td>1</td>\n",
       "      <td>3</td>\n",
       "      <td>8.0</td>\n",
       "      <td>0</td>\n",
       "      <td>0</td>\n",
       "      <td>205</td>\n",
       "      <td>1049</td>\n",
       "      <td>983</td>\n",
       "      <td>...</td>\n",
       "      <td>496687</td>\n",
       "      <td>113482</td>\n",
       "      <td>0</td>\n",
       "      <td>0</td>\n",
       "      <td>0</td>\n",
       "      <td>0</td>\n",
       "      <td>0</td>\n",
       "      <td>0</td>\n",
       "      <td>0</td>\n",
       "      <td>0</td>\n",
       "    </tr>\n",
       "    <tr>\n",
       "      <th>476185</th>\n",
       "      <td>3.029095e+11</td>\n",
       "      <td>3.029095e+11</td>\n",
       "      <td>1</td>\n",
       "      <td>0</td>\n",
       "      <td>9.0</td>\n",
       "      <td>0</td>\n",
       "      <td>0</td>\n",
       "      <td>67</td>\n",
       "      <td>1921</td>\n",
       "      <td>1778</td>\n",
       "      <td>...</td>\n",
       "      <td>496687</td>\n",
       "      <td>21725</td>\n",
       "      <td>0</td>\n",
       "      <td>0</td>\n",
       "      <td>0</td>\n",
       "      <td>0</td>\n",
       "      <td>0</td>\n",
       "      <td>0</td>\n",
       "      <td>0</td>\n",
       "      <td>0</td>\n",
       "    </tr>\n",
       "    <tr>\n",
       "      <th>860177</th>\n",
       "      <td>7.379816e+11</td>\n",
       "      <td>7.379816e+11</td>\n",
       "      <td>1</td>\n",
       "      <td>10</td>\n",
       "      <td>0.0</td>\n",
       "      <td>0</td>\n",
       "      <td>0</td>\n",
       "      <td>5</td>\n",
       "      <td>218</td>\n",
       "      <td>7</td>\n",
       "      <td>...</td>\n",
       "      <td>13252</td>\n",
       "      <td>15859</td>\n",
       "      <td>0</td>\n",
       "      <td>0</td>\n",
       "      <td>0</td>\n",
       "      <td>0</td>\n",
       "      <td>0</td>\n",
       "      <td>0</td>\n",
       "      <td>0</td>\n",
       "      <td>0</td>\n",
       "    </tr>\n",
       "  </tbody>\n",
       "</table>\n",
       "<p>3 rows × 21 columns</p>\n",
       "</div>"
      ],
      "text/plain": [
       "        SettlementAmount  InstructedAmount  Label  hour  Flags_ben  \\\n",
       "710978      2.582180e+11      2.582180e+11      1     3        8.0   \n",
       "476185      3.029095e+11      3.029095e+11      1     0        9.0   \n",
       "860177      7.379816e+11      7.379816e+11      1    10        0.0   \n",
       "\n",
       "        MissingBenAccount  MissingOrdAccount  Sender_hour_frequency_new  \\\n",
       "710978                  0                  0                        205   \n",
       "476185                  0                  0                         67   \n",
       "860177                  0                  0                          5   \n",
       "\n",
       "        Sender_Receiver_frequency_new  \\\n",
       "710978                           1049   \n",
       "476185                           1921   \n",
       "860177                            218   \n",
       "\n",
       "        Sender_InstructedCurrency_frequency_new  ...  \\\n",
       "710978                                      983  ...   \n",
       "476185                                     1778  ...   \n",
       "860177                                        7  ...   \n",
       "\n",
       "        Receiver_SettlementCurrency_frequency_new  \\\n",
       "710978                                     496687   \n",
       "476185                                     496687   \n",
       "860177                                      13252   \n",
       "\n",
       "        Receiver_hour_frequency_new  DifferentOrderNum  DifferentBenNum  \\\n",
       "710978                       113482                  0                0   \n",
       "476185                        21725                  0                0   \n",
       "860177                        15859                  0                0   \n",
       "\n",
       "        DifferentOrderName  DifferentBenName  DifferentOrderStreet  \\\n",
       "710978                   0                 0                     0   \n",
       "476185                   0                 0                     0   \n",
       "860177                   0                 0                     0   \n",
       "\n",
       "        DifferentBenStreet  DifferentOrderZip  DifferentBenZip  \n",
       "710978                   0                  0                0  \n",
       "476185                   0                  0                0  \n",
       "860177                   0                  0                0  \n",
       "\n",
       "[3 rows x 21 columns]"
      ]
     },
     "execution_count": 30,
     "metadata": {},
     "output_type": "execute_result"
    }
   ],
   "source": [
    "testl.head(3)"
   ]
  },
  {
   "cell_type": "code",
   "execution_count": 29,
   "id": "da50c053",
   "metadata": {},
   "outputs": [
    {
     "data": {
      "text/plain": [
       "(1003674, 21)"
      ]
     },
     "execution_count": 29,
     "metadata": {},
     "output_type": "execute_result"
    }
   ],
   "source": [
    "testl.shape"
   ]
  },
  {
   "cell_type": "code",
   "execution_count": 34,
   "id": "ab0699b8",
   "metadata": {},
   "outputs": [
    {
     "data": {
      "text/plain": [
       "0    897136\n",
       "1      1025\n",
       "Name: Label, dtype: int64"
      ]
     },
     "execution_count": 34,
     "metadata": {},
     "output_type": "execute_result"
    }
   ],
   "source": [
    "Y_val.value_counts()"
   ]
  },
  {
   "cell_type": "code",
   "execution_count": 70,
   "id": "6204f4f5",
   "metadata": {},
   "outputs": [
    {
     "name": "stdout",
     "output_type": "stream",
     "text": [
      "predicted as 1 : 108913\n",
      "predicted as 0 : 894761\n"
     ]
    }
   ],
   "source": [
    "a=0\n",
    "b=0\n",
    "# ynew = np.round(ynew).astype(int)\n",
    "for i in range(len(ynew)):\n",
    "    if ynew[i]==1:\n",
    "        a+=1\n",
    "    elif ynew[i]==0:\n",
    "        b+=1\n",
    "print(\"predicted as 1 :\",a)\n",
    "print(\"predicted as 0 :\",b)"
   ]
  },
  {
   "cell_type": "code",
   "execution_count": 79,
   "id": "d224b0e0",
   "metadata": {},
   "outputs": [
    {
     "name": "stdout",
     "output_type": "stream",
     "text": [
      "AUPRC: 0.8600032786198633\n"
     ]
    }
   ],
   "source": [
    "from xgboost import XGBClassifier\n",
    "\n",
    "model = XGBClassifier(n_estimators=100)\n",
    "model.fit(X_train, Y_train)\n",
    "\n",
    "pred = model.predict(X_test)\n",
    "pred_proba = model.predict_proba(X_test)[:, 1]\n",
    "print(\"AUPRC:\",metrics.average_precision_score(y_true=Y_test, y_score=pred_proba),)"
   ]
  },
  {
   "cell_type": "code",
   "execution_count": null,
   "id": "7411e328",
   "metadata": {},
   "outputs": [],
   "source": []
  },
  {
   "cell_type": "code",
   "execution_count": null,
   "id": "c2c7f079",
   "metadata": {},
   "outputs": [],
   "source": []
  },
  {
   "cell_type": "code",
   "execution_count": 83,
   "id": "57a20c53",
   "metadata": {},
   "outputs": [
    {
     "name": "stderr",
     "output_type": "stream",
     "text": [
      "WARNING:absl:Found untraced functions such as _update_step_xla while saving (showing 1 of 1). These functions will not be directly callable after loading.\n"
     ]
    },
    {
     "name": "stdout",
     "output_type": "stream",
     "text": [
      "INFO:tensorflow:Assets written to: my_model\\assets\n"
     ]
    },
    {
     "name": "stderr",
     "output_type": "stream",
     "text": [
      "INFO:tensorflow:Assets written to: my_model\\assets\n"
     ]
    },
    {
     "data": {
      "application/vnd.jupyter.widget-view+json": {
       "model_id": "ac945cb0bb8e4fd2969190a4824ed86d",
       "version_major": 2,
       "version_minor": 0
      },
      "text/plain": [
       "0epoch [00:00, ?epoch/s]"
      ]
     },
     "metadata": {},
     "output_type": "display_data"
    },
    {
     "data": {
      "application/vnd.jupyter.widget-view+json": {
       "model_id": "2ff06e8dd80746888562c9545fe211f0",
       "version_major": 2,
       "version_minor": 0
      },
      "text/plain": [
       "  0%|          | 0.00/16.4k [00:00<?, ?batch/s]"
      ]
     },
     "metadata": {},
     "output_type": "display_data"
    },
    {
     "data": {
      "application/vnd.jupyter.widget-view+json": {
       "model_id": "b44858f2da90471b8831d74132aaf71c",
       "version_major": 2,
       "version_minor": 0
      },
      "text/plain": [
       "  0%|          | 0.00/16.4k [00:00<?, ?batch/s]"
      ]
     },
     "metadata": {},
     "output_type": "display_data"
    },
    {
     "data": {
      "application/vnd.jupyter.widget-view+json": {
       "model_id": "5864309275cb4b0e8e8a504af9782efd",
       "version_major": 2,
       "version_minor": 0
      },
      "text/plain": [
       "  0%|          | 0.00/16.4k [00:00<?, ?batch/s]"
      ]
     },
     "metadata": {},
     "output_type": "display_data"
    },
    {
     "data": {
      "application/vnd.jupyter.widget-view+json": {
       "model_id": "812aea7f8b2b478384fc84c45ad286f7",
       "version_major": 2,
       "version_minor": 0
      },
      "text/plain": [
       "  0%|          | 0.00/16.4k [00:00<?, ?batch/s]"
      ]
     },
     "metadata": {},
     "output_type": "display_data"
    },
    {
     "data": {
      "application/vnd.jupyter.widget-view+json": {
       "model_id": "f2b16ed513914a3c9af10fdf4d5b3442",
       "version_major": 2,
       "version_minor": 0
      },
      "text/plain": [
       "  0%|          | 0.00/16.4k [00:00<?, ?batch/s]"
      ]
     },
     "metadata": {},
     "output_type": "display_data"
    },
    {
     "name": "stdout",
     "output_type": "stream",
     "text": [
      "Test Split: \n",
      "31365/31365 - 78s - loss: 0.1790 - accuracy: 0.9176 - precision_5: 0.0151 - recall_5: 0.9883 - auc: 0.9898 - 78s/epoch - 2ms/step\n",
      "['loss', 'accuracy', 'precision_5', 'recall_5', 'auc']\n",
      "[0.1790410578250885, 0.9175847768783569, 0.015053533017635345, 0.9882720708847046, 0.9897668361663818]\n",
      "31365/31365 [==============================] - 66s 2ms/step\n",
      "[[1]\n",
      " [1]\n",
      " [1]\n",
      " ...\n",
      " [0]\n",
      " [0]\n",
      " [0]]\n",
      "AUPRC: 0.01489193151123675\n"
     ]
    }
   ],
   "source": [
    "from tqdm.keras import TqdmCallback\n",
    "total_num = Y_train.shape[0]\n",
    "num1 = np.count_nonzero(Y_train)\n",
    "num0 = total_num - num1\n",
    "\n",
    "# import NN layers and other componenets.\n",
    "tf.random.set_seed(13)\n",
    "\n",
    "# Keras model \n",
    "\n",
    "def build_model(input_shape):\n",
    "    model = tf.keras.Sequential()\n",
    "    model.add(tf.keras.layers.Dense(32, input_shape = (input_shape,)))\n",
    "    model.add(tf.keras.layers.Dense(32, activation='relu'))\n",
    "    model.add(tf.keras.layers.Dense(1, activation='sigmoid'))\n",
    "    return model\n",
    "\n",
    "input_shape = X_train.shape[1]\n",
    "model = build_model(input_shape)\n",
    "learning_rate = 0.001\n",
    "optimizer = 'Nadam'\n",
    "model.compile(\n",
    "    loss='binary_crossentropy',\n",
    "    optimizer='Nadam',\n",
    "    metrics=['accuracy',tf.keras.metrics.Precision(), tf.keras.metrics.Recall(),tf.keras.metrics.AUC(from_logits=True)]\n",
    ")\n",
    "\n",
    "model.save(\"my_model\")\n",
    "\n",
    "early_stopping = tf.keras.callbacks.EarlyStopping(patience=5, restore_best_weights=True)\n",
    "logger = TqdmCallback(verbose=2)\n",
    "model.fit(\n",
    "    x=X_train,\n",
    "    y=Y_train,\n",
    "    batch_size=128,\n",
    "    epochs=5,\n",
    "    validation_data=(X_val,Y_val),\n",
    "    class_weight={0: num1 / total_num, 1: num0 / total_num},\n",
    "    callbacks=[early_stopping, logger],\n",
    "    verbose=0\n",
    ")\n",
    "\n",
    "\n",
    "print('Test Split: ')\n",
    "results =  model.evaluate(X_test, Y_test, verbose=2)\n",
    "print(model.metrics_names)\n",
    "print(results)\n",
    "\n",
    "\n",
    "# Prediction and AUPRC score calcualtion\n",
    "y_pred = model.predict(X_test)\n",
    "ynew = np.round(y_pred).astype(int)\n",
    "print(ynew)\n",
    "print(\"AUPRC:\", metrics.average_precision_score(y_true=Y_test, y_score=ynew))\n"
   ]
  },
  {
   "cell_type": "code",
   "execution_count": null,
   "id": "a8501224",
   "metadata": {},
   "outputs": [],
   "source": []
  }
 ],
 "metadata": {
  "kernelspec": {
   "display_name": "Python 3 (ipykernel)",
   "language": "python",
   "name": "python3"
  },
  "language_info": {
   "codemirror_mode": {
    "name": "ipython",
    "version": 3
   },
   "file_extension": ".py",
   "mimetype": "text/x-python",
   "name": "python",
   "nbconvert_exporter": "python",
   "pygments_lexer": "ipython3",
   "version": "3.9.12"
  }
 },
 "nbformat": 4,
 "nbformat_minor": 5
}
